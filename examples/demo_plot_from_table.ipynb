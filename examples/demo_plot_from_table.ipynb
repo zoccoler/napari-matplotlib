{
 "cells": [
  {
   "cell_type": "code",
   "execution_count": 1,
   "metadata": {},
   "outputs": [],
   "source": [
    "import napari\n",
    "from skimage import data\n",
    "import numpy as np\n",
    "from skimage import measure, morphology, filters\n",
    "import pandas as pd\n",
    "from typing import List, Optional, Tuple\n",
    "\n",
    "import matplotlib.colors as mcolor\n",
    "import napari\n",
    "import numpy as np\n",
    "import pandas as pd\n",
    "from magicgui import magicgui\n",
    "from magicgui.widgets import ComboBox\n",
    "import matplotlib.pyplot as plt\n",
    "import seaborn as sns\n",
    "\n",
    "from napari_matplotlib.util import Interval\n",
    "from napari_matplotlib.line import Line2DBaseWidget\n"
   ]
  },
  {
   "cell_type": "code",
   "execution_count": 2,
   "metadata": {},
   "outputs": [],
   "source": [
    "image = data.human_mitosis()\n",
    "nrows, ncols = image.shape"
   ]
  },
  {
   "cell_type": "code",
   "execution_count": 3,
   "metadata": {},
   "outputs": [],
   "source": [
    "image1 = image[:nrows//2, :ncols//2]\n",
    "image2 = image[:nrows//2, ncols//2:]\n",
    "image3 = image[nrows//2:, :ncols//2]\n",
    "image4 = image[nrows//2:, ncols//2:]\n",
    "image_list = [image1, image1, image1, image1]"
   ]
  },
  {
   "attachments": {},
   "cell_type": "markdown",
   "metadata": {},
   "source": [
    "Create Label Images"
   ]
  },
  {
   "cell_type": "code",
   "execution_count": 4,
   "metadata": {},
   "outputs": [],
   "source": [
    "labels_list = []\n",
    "for image in image_list:\n",
    "    filtered = filters.gaussian(image, 1)\n",
    "    th = filters.threshold_otsu(filtered)\n",
    "    binary = filtered > th\n",
    "    labels = measure.label(binary)\n",
    "    labels_list.append(labels)"
   ]
  },
  {
   "cell_type": "code",
   "execution_count": 5,
   "metadata": {},
   "outputs": [],
   "source": [
    "image_list = [image1, 2*image1, 3*image1, 4*image1]"
   ]
  },
  {
   "attachments": {},
   "cell_type": "markdown",
   "metadata": {},
   "source": [
    "Feature Extraction"
   ]
  },
  {
   "cell_type": "code",
   "execution_count": 6,
   "metadata": {},
   "outputs": [],
   "source": [
    "tables_list = []\n",
    "for labels, image, i in zip(labels_list, image_list, range(len(image_list))):\n",
    "    table = pd.DataFrame(measure.regionprops_table(labels, image, properties=['label', \n",
    "                                                                                'area', \n",
    "                                                                                'axis_major_length', \n",
    "                                                                                'axis_major_length', \n",
    "                                                                                'feret_diameter_max', \n",
    "                                                                                'orientation', \n",
    "                                                                                'solidity', \n",
    "                                                                                'eccentricity', \n",
    "                                                                                'intensity_mean',\n",
    "    ]))\n",
    "    table['frame'] = i+1\n",
    "    tables_list.append(table)"
   ]
  },
  {
   "attachments": {},
   "cell_type": "markdown",
   "metadata": {},
   "source": [
    "concat tables"
   ]
  },
  {
   "cell_type": "code",
   "execution_count": 7,
   "metadata": {},
   "outputs": [
    {
     "data": {
      "text/html": [
       "<div>\n",
       "<style scoped>\n",
       "    .dataframe tbody tr th:only-of-type {\n",
       "        vertical-align: middle;\n",
       "    }\n",
       "\n",
       "    .dataframe tbody tr th {\n",
       "        vertical-align: top;\n",
       "    }\n",
       "\n",
       "    .dataframe thead th {\n",
       "        text-align: right;\n",
       "    }\n",
       "</style>\n",
       "<table border=\"1\" class=\"dataframe\">\n",
       "  <thead>\n",
       "    <tr style=\"text-align: right;\">\n",
       "      <th></th>\n",
       "      <th>label</th>\n",
       "      <th>area</th>\n",
       "      <th>axis_major_length</th>\n",
       "      <th>feret_diameter_max</th>\n",
       "      <th>orientation</th>\n",
       "      <th>solidity</th>\n",
       "      <th>eccentricity</th>\n",
       "      <th>intensity_mean</th>\n",
       "      <th>frame</th>\n",
       "    </tr>\n",
       "  </thead>\n",
       "  <tbody>\n",
       "    <tr>\n",
       "      <th>0</th>\n",
       "      <td>1</td>\n",
       "      <td>64</td>\n",
       "      <td>10.862780</td>\n",
       "      <td>10.770330</td>\n",
       "      <td>1.570796</td>\n",
       "      <td>1.000000</td>\n",
       "      <td>0.713074</td>\n",
       "      <td>50.250000</td>\n",
       "      <td>1</td>\n",
       "    </tr>\n",
       "    <tr>\n",
       "      <th>1</th>\n",
       "      <td>2</td>\n",
       "      <td>73</td>\n",
       "      <td>12.568236</td>\n",
       "      <td>13.000000</td>\n",
       "      <td>0.507038</td>\n",
       "      <td>0.935897</td>\n",
       "      <td>0.808680</td>\n",
       "      <td>59.054795</td>\n",
       "      <td>1</td>\n",
       "    </tr>\n",
       "    <tr>\n",
       "      <th>2</th>\n",
       "      <td>3</td>\n",
       "      <td>77</td>\n",
       "      <td>11.542712</td>\n",
       "      <td>11.704700</td>\n",
       "      <td>0.041654</td>\n",
       "      <td>0.987179</td>\n",
       "      <td>0.680056</td>\n",
       "      <td>52.558442</td>\n",
       "      <td>1</td>\n",
       "    </tr>\n",
       "    <tr>\n",
       "      <th>3</th>\n",
       "      <td>4</td>\n",
       "      <td>86</td>\n",
       "      <td>11.624222</td>\n",
       "      <td>12.083046</td>\n",
       "      <td>-1.391353</td>\n",
       "      <td>0.945055</td>\n",
       "      <td>0.570413</td>\n",
       "      <td>47.790698</td>\n",
       "      <td>1</td>\n",
       "    </tr>\n",
       "    <tr>\n",
       "      <th>4</th>\n",
       "      <td>5</td>\n",
       "      <td>137</td>\n",
       "      <td>13.928775</td>\n",
       "      <td>14.866069</td>\n",
       "      <td>1.338121</td>\n",
       "      <td>0.951389</td>\n",
       "      <td>0.435103</td>\n",
       "      <td>56.416058</td>\n",
       "      <td>1</td>\n",
       "    </tr>\n",
       "    <tr>\n",
       "      <th>...</th>\n",
       "      <td>...</td>\n",
       "      <td>...</td>\n",
       "      <td>...</td>\n",
       "      <td>...</td>\n",
       "      <td>...</td>\n",
       "      <td>...</td>\n",
       "      <td>...</td>\n",
       "      <td>...</td>\n",
       "      <td>...</td>\n",
       "    </tr>\n",
       "    <tr>\n",
       "      <th>43</th>\n",
       "      <td>44</td>\n",
       "      <td>91</td>\n",
       "      <td>12.076837</td>\n",
       "      <td>12.649111</td>\n",
       "      <td>0.396809</td>\n",
       "      <td>0.947917</td>\n",
       "      <td>0.598185</td>\n",
       "      <td>163.428571</td>\n",
       "      <td>4</td>\n",
       "    </tr>\n",
       "    <tr>\n",
       "      <th>44</th>\n",
       "      <td>45</td>\n",
       "      <td>86</td>\n",
       "      <td>11.446477</td>\n",
       "      <td>12.083046</td>\n",
       "      <td>-1.105524</td>\n",
       "      <td>0.945055</td>\n",
       "      <td>0.548494</td>\n",
       "      <td>191.906977</td>\n",
       "      <td>4</td>\n",
       "    </tr>\n",
       "    <tr>\n",
       "      <th>45</th>\n",
       "      <td>46</td>\n",
       "      <td>127</td>\n",
       "      <td>14.118014</td>\n",
       "      <td>14.560220</td>\n",
       "      <td>0.108927</td>\n",
       "      <td>0.969466</td>\n",
       "      <td>0.582361</td>\n",
       "      <td>106.047244</td>\n",
       "      <td>4</td>\n",
       "    </tr>\n",
       "    <tr>\n",
       "      <th>46</th>\n",
       "      <td>47</td>\n",
       "      <td>60</td>\n",
       "      <td>11.865918</td>\n",
       "      <td>11.401754</td>\n",
       "      <td>0.000000</td>\n",
       "      <td>1.000000</td>\n",
       "      <td>0.834639</td>\n",
       "      <td>123.733333</td>\n",
       "      <td>4</td>\n",
       "    </tr>\n",
       "    <tr>\n",
       "      <th>47</th>\n",
       "      <td>48</td>\n",
       "      <td>95</td>\n",
       "      <td>13.092204</td>\n",
       "      <td>13.416408</td>\n",
       "      <td>1.158264</td>\n",
       "      <td>0.959596</td>\n",
       "      <td>0.708782</td>\n",
       "      <td>105.052632</td>\n",
       "      <td>4</td>\n",
       "    </tr>\n",
       "  </tbody>\n",
       "</table>\n",
       "<p>192 rows × 9 columns</p>\n",
       "</div>"
      ],
      "text/plain": [
       "    label  area  axis_major_length  feret_diameter_max  orientation  solidity  \\\n",
       "0       1    64          10.862780           10.770330     1.570796  1.000000   \n",
       "1       2    73          12.568236           13.000000     0.507038  0.935897   \n",
       "2       3    77          11.542712           11.704700     0.041654  0.987179   \n",
       "3       4    86          11.624222           12.083046    -1.391353  0.945055   \n",
       "4       5   137          13.928775           14.866069     1.338121  0.951389   \n",
       "..    ...   ...                ...                 ...          ...       ...   \n",
       "43     44    91          12.076837           12.649111     0.396809  0.947917   \n",
       "44     45    86          11.446477           12.083046    -1.105524  0.945055   \n",
       "45     46   127          14.118014           14.560220     0.108927  0.969466   \n",
       "46     47    60          11.865918           11.401754     0.000000  1.000000   \n",
       "47     48    95          13.092204           13.416408     1.158264  0.959596   \n",
       "\n",
       "    eccentricity  intensity_mean  frame  \n",
       "0       0.713074       50.250000      1  \n",
       "1       0.808680       59.054795      1  \n",
       "2       0.680056       52.558442      1  \n",
       "3       0.570413       47.790698      1  \n",
       "4       0.435103       56.416058      1  \n",
       "..           ...             ...    ...  \n",
       "43      0.598185      163.428571      4  \n",
       "44      0.548494      191.906977      4  \n",
       "45      0.582361      106.047244      4  \n",
       "46      0.834639      123.733333      4  \n",
       "47      0.708782      105.052632      4  \n",
       "\n",
       "[192 rows x 9 columns]"
      ]
     },
     "execution_count": 7,
     "metadata": {},
     "output_type": "execute_result"
    }
   ],
   "source": [
    "master_table = pd.concat(tables_list)\n",
    "master_table"
   ]
  },
  {
   "attachments": {},
   "cell_type": "markdown",
   "metadata": {},
   "source": [
    "Stack labels"
   ]
  },
  {
   "cell_type": "code",
   "execution_count": 8,
   "metadata": {},
   "outputs": [
    {
     "data": {
      "text/plain": [
       "(4, 1, 256, 256)"
      ]
     },
     "execution_count": 8,
     "metadata": {},
     "output_type": "execute_result"
    }
   ],
   "source": [
    "labels_stack = np.stack(labels_list)\n",
    "labels_stack = labels_stack[:, np.newaxis]\n",
    "labels_stack.shape"
   ]
  },
  {
   "attachments": {},
   "cell_type": "markdown",
   "metadata": {},
   "source": [
    "Open in napari"
   ]
  },
  {
   "cell_type": "code",
   "execution_count": 9,
   "metadata": {},
   "outputs": [
    {
     "data": {
      "text/plain": [
       "<Labels layer 'labels_stack' at 0x18abcaff250>"
      ]
     },
     "execution_count": 9,
     "metadata": {},
     "output_type": "execute_result"
    }
   ],
   "source": [
    "viewer = napari.Viewer()\n",
    "viewer.add_labels(labels_stack, features=master_table)"
   ]
  },
  {
   "cell_type": "code",
   "execution_count": 10,
   "metadata": {},
   "outputs": [],
   "source": [
    "from napari_skimage_regionprops._table import add_table"
   ]
  },
  {
   "cell_type": "code",
   "execution_count": 12,
   "metadata": {},
   "outputs": [
    {
     "name": "stdout",
     "output_type": "stream",
     "text": [
      "Napari status bar display of label properties disabled because https://github.com/napari/napari/issues/5417 and https://github.com/napari/napari/issues/4342\n"
     ]
    },
    {
     "name": "stdout",
     "output_type": "stream",
     "text": [
      "[] <class 'list'> 0\n",
      "[0      1\n",
      "1      1\n",
      "2      1\n",
      "3      1\n",
      "4      1\n",
      "      ..\n",
      "187    4\n",
      "188    4\n",
      "189    4\n",
      "190    4\n",
      "191    4\n",
      "Name: frame, Length: 192, dtype: int64, 0       1\n",
      "1       2\n",
      "2       3\n",
      "3       4\n",
      "4       5\n",
      "       ..\n",
      "187    44\n",
      "188    45\n",
      "189    46\n",
      "190    47\n",
      "191    48\n",
      "Name: index, Length: 192, dtype: int32, 0       1\n",
      "1       2\n",
      "2       3\n",
      "3       4\n",
      "4       5\n",
      "       ..\n",
      "187    44\n",
      "188    45\n",
      "189    46\n",
      "190    47\n",
      "191    48\n",
      "Name: label, Length: 192, dtype: int32] <class 'list'> 3\n"
     ]
    }
   ],
   "source": [
    "table_widget = add_table(viewer.layers[-1], viewer)"
   ]
  },
  {
   "cell_type": "code",
   "execution_count": 27,
   "metadata": {},
   "outputs": [],
   "source": [
    "def _on_rightclick_multi_column(self):\n",
    "\n",
    "    if not 'label' in self._table.keys() and not 'frame' in self._table.keys():\n",
    "        return\n",
    "    \n",
    "    selected_column = list(self._table.keys())[self._view.currentColumn()]\n",
    "\n",
    "    widget = FeaturesLine2DWidget(viewer, show_dropdowns=False)\n",
    "    self._viewer.window.add_dock_widget(widget, tabify=True)\n",
    "    widget._set_axis_keys('frame', selected_column)\n"
   ]
  },
  {
   "cell_type": "code",
   "execution_count": null,
   "metadata": {},
   "outputs": [],
   "source": [
    "\n",
    "table_widget._view.horizontalHeader().setContextMenuPolicy\n"
   ]
  },
  {
   "cell_type": "code",
   "execution_count": null,
   "metadata": {},
   "outputs": [],
   "source": []
  }
 ],
 "metadata": {
  "kernelspec": {
   "display_name": "napari-matplotlib",
   "language": "python",
   "name": "python3"
  },
  "language_info": {
   "codemirror_mode": {
    "name": "ipython",
    "version": 3
   },
   "file_extension": ".py",
   "mimetype": "text/x-python",
   "name": "python",
   "nbconvert_exporter": "python",
   "pygments_lexer": "ipython3",
   "version": "3.9.16"
  },
  "orig_nbformat": 4,
  "vscode": {
   "interpreter": {
    "hash": "ff7e0b08adf806f4197eec75cdd2a1cdd958706cc3709386d7f8512f4f63c85f"
   }
  }
 },
 "nbformat": 4,
 "nbformat_minor": 2
}
